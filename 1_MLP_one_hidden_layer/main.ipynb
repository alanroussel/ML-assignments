{
 "cells": [
  {
   "cell_type": "code",
   "execution_count": 1,
   "metadata": {},
   "outputs": [],
   "source": [
    "import matplotlib.pyplot as plt\n",
    "import numpy as np\n",
    "import random\n"
   ]
  },
  {
   "cell_type": "code",
   "execution_count": 2,
   "metadata": {},
   "outputs": [],
   "source": [
    "#hyperparameters of the dataset\n",
    "K = 10 # numbers of class\n",
    "d = 1024*3 # numbers of pixels (RGB)"
   ]
  },
  {
   "cell_type": "code",
   "execution_count": 3,
   "metadata": {},
   "outputs": [],
   "source": [
    "# init model\n",
    "W = np.random.normal(0, 0.01, (K, d))\n",
    "b = np.random.normal(0, 0.01, (K, 1))"
   ]
  },
  {
   "cell_type": "code",
   "execution_count": 4,
   "metadata": {},
   "outputs": [],
   "source": [
    "from utils import normalize_images, one_hot\n",
    "def load(file):\n",
    "    import pickle\n",
    "    with open(file, 'rb') as fo:\n",
    "        dict = pickle.load(fo, encoding='bytes')\n",
    "    X = normalize_images(dict[b'data'])\n",
    "    y = dict[b'labels']\n",
    "    Y = one_hot(y, K)\n",
    "    return X, Y, y"
   ]
  },
  {
   "cell_type": "code",
   "execution_count": 5,
   "metadata": {},
   "outputs": [],
   "source": [
    "training = load('dataset/data_batch_1')\n",
    "validation = load('dataset/data_batch_2')\n",
    "test = load('dataset/test_batch')"
   ]
  },
  {
   "cell_type": "code",
   "execution_count": 10,
   "metadata": {},
   "outputs": [],
   "source": [
    "from utils import softmax\n",
    "def evaluateClassifier(X, W, b):\n",
    "\tYpred = np.add(np.matmul(W, X.T), b)\n",
    "\tYpred_soft_max = softmax(Ypred)\n",
    "\treturn Ypred_soft_max"
   ]
  },
  {
   "cell_type": "code",
   "execution_count": 25,
   "metadata": {},
   "outputs": [],
   "source": [
    "\n",
    "\n",
    "def computeCost(dataloader, W, b,lamda=0):\n",
    "    X, Y = dataloader[0], dataloader[1]\n",
    "    Ypred = evaluateClassifier(X,W,b)\n",
    "    batch_size = len(X)\n",
    "    \n",
    "    err = 0\n",
    "    for im_idx in range(batch_size):\n",
    "        err += np.matmul(Y[:,im_idx], np.log(Ypred[:,im_idx]))\n",
    "    err /= batch_size\n",
    "    err += lamda*np.sum(np.square(W)) # weight decay \n",
    "    return err \n",
    "\n",
    "def computeAccuracy(dataloader, W, b):\n",
    "    X, y = dataloader[0], dataloader[2]\n",
    "    Ypred = np.argmax(evaluateClassifier(X,W,b), 0)\n",
    "    return np.sum(Ypred == y)/len(X)"
   ]
  },
  {
   "cell_type": "code",
   "execution_count": 20,
   "metadata": {},
   "outputs": [],
   "source": [
    "# compute gradient\n",
    "def computeGradsNum(X, Y, W, b, lamda, h=1e-6):\n",
    "   \n",
    "\t\"\"\" Converted from matlab code \"\"\"\n",
    "\n",
    "\tgrad_W = np.zeros(W.shape)\n",
    "\tgrad_b = np.zeros(b.shape)\n",
    "\n",
    "\tc = computeCost(X, Y, W, b, lamda)\n",
    "\t\n",
    "\tfor i in range(len(b)):\n",
    "\t\tb_try = np.array(b)\n",
    "\t\tb_try[i] += h\n",
    "\t\tc2 = computeCost(X, Y, W, b_try, lamda)\n",
    "\t\tgrad_b[i] = (c2-c) / h\n",
    "\n",
    "\tfor i in range(W.shape[0]):\n",
    "\t\tfor j in range(W.shape[1]):\n",
    "\t\t\tW_try = np.array(W)\n",
    "\t\t\tW_try[i,j] += h\n",
    "\t\t\tc2 = computeCost(X, Y, W_try, b, lamda)\n",
    "\t\t\tgrad_W[i,j] = (c2-c) / h\n",
    "\n",
    "\treturn [grad_W, grad_b]"
   ]
  },
  {
   "cell_type": "code",
   "execution_count": 35,
   "metadata": {},
   "outputs": [],
   "source": [
    "def resolveWithSDG(dataloader, W, b, lamda, n_batch=20, learning_rate=0.01, max_number_of_epochs=20):\n",
    "    X, Y = dataloader[0], dataloader[1]\n",
    "    n_of_data = dataloader[0].shape[0]\n",
    "    for epoch in range(max_number_of_epochs):\n",
    "        print()\n",
    "        for batch_id in range(int(n_of_data/n_batch)):\n",
    "            X_batch = X\n",
    "            Y_batch = Y\n",
    "            grads = computeGradsNum(X_batch, Y_batch, W, b, lamda)\n",
    "            W -= learning_rate*grads[0]\n",
    "            b -= learning_rate*grads[1]\n"
   ]
  },
  {
   "cell_type": "code",
   "execution_count": 36,
   "metadata": {},
   "outputs": [
    {
     "name": "stdout",
     "output_type": "stream",
     "text": [
      "\n"
     ]
    },
    {
     "ename": "TypeError",
     "evalue": "computeCost() takes from 3 to 4 positional arguments but 5 were given",
     "output_type": "error",
     "traceback": [
      "\u001b[0;31m---------------------------------------------------------------------------\u001b[0m",
      "\u001b[0;31mTypeError\u001b[0m                                 Traceback (most recent call last)",
      "\u001b[1;32m/Users/alanroussel/Documents/kth/DD2424/labs/1/main.ipynb Cell 10\u001b[0m in \u001b[0;36m1\n\u001b[0;32m----> <a href='vscode-notebook-cell:/Users/alanroussel/Documents/kth/DD2424/labs/1/main.ipynb#X12sZmlsZQ%3D%3D?line=0'>1</a>\u001b[0m resolveWithSDG(training, W, b, lamda)\n",
      "\u001b[1;32m/Users/alanroussel/Documents/kth/DD2424/labs/1/main.ipynb Cell 10\u001b[0m in \u001b[0;36m9\n\u001b[1;32m      <a href='vscode-notebook-cell:/Users/alanroussel/Documents/kth/DD2424/labs/1/main.ipynb#X12sZmlsZQ%3D%3D?line=6'>7</a>\u001b[0m X_batch \u001b[39m=\u001b[39m X\n\u001b[1;32m      <a href='vscode-notebook-cell:/Users/alanroussel/Documents/kth/DD2424/labs/1/main.ipynb#X12sZmlsZQ%3D%3D?line=7'>8</a>\u001b[0m Y_batch \u001b[39m=\u001b[39m Y\n\u001b[0;32m----> <a href='vscode-notebook-cell:/Users/alanroussel/Documents/kth/DD2424/labs/1/main.ipynb#X12sZmlsZQ%3D%3D?line=8'>9</a>\u001b[0m grads \u001b[39m=\u001b[39m computeGradsNum(X_batch, Y_batch, W, b, lamda)\n\u001b[1;32m     <a href='vscode-notebook-cell:/Users/alanroussel/Documents/kth/DD2424/labs/1/main.ipynb#X12sZmlsZQ%3D%3D?line=9'>10</a>\u001b[0m W \u001b[39m-\u001b[39m\u001b[39m=\u001b[39m learning_rate\u001b[39m*\u001b[39mgrads[\u001b[39m0\u001b[39m]\n\u001b[1;32m     <a href='vscode-notebook-cell:/Users/alanroussel/Documents/kth/DD2424/labs/1/main.ipynb#X12sZmlsZQ%3D%3D?line=10'>11</a>\u001b[0m b \u001b[39m-\u001b[39m\u001b[39m=\u001b[39m learning_rate\u001b[39m*\u001b[39mgrads[\u001b[39m1\u001b[39m]\n",
      "\u001b[1;32m/Users/alanroussel/Documents/kth/DD2424/labs/1/main.ipynb Cell 10\u001b[0m in \u001b[0;36m9\n\u001b[1;32m      <a href='vscode-notebook-cell:/Users/alanroussel/Documents/kth/DD2424/labs/1/main.ipynb#X12sZmlsZQ%3D%3D?line=5'>6</a>\u001b[0m grad_W \u001b[39m=\u001b[39m np\u001b[39m.\u001b[39mzeros(W\u001b[39m.\u001b[39mshape)\n\u001b[1;32m      <a href='vscode-notebook-cell:/Users/alanroussel/Documents/kth/DD2424/labs/1/main.ipynb#X12sZmlsZQ%3D%3D?line=6'>7</a>\u001b[0m grad_b \u001b[39m=\u001b[39m np\u001b[39m.\u001b[39mzeros(b\u001b[39m.\u001b[39mshape)\n\u001b[0;32m----> <a href='vscode-notebook-cell:/Users/alanroussel/Documents/kth/DD2424/labs/1/main.ipynb#X12sZmlsZQ%3D%3D?line=8'>9</a>\u001b[0m c \u001b[39m=\u001b[39m computeCost(X, Y, W, b, lamda)\n\u001b[1;32m     <a href='vscode-notebook-cell:/Users/alanroussel/Documents/kth/DD2424/labs/1/main.ipynb#X12sZmlsZQ%3D%3D?line=10'>11</a>\u001b[0m \u001b[39mfor\u001b[39;00m i \u001b[39min\u001b[39;00m \u001b[39mrange\u001b[39m(\u001b[39mlen\u001b[39m(b)):\n\u001b[1;32m     <a href='vscode-notebook-cell:/Users/alanroussel/Documents/kth/DD2424/labs/1/main.ipynb#X12sZmlsZQ%3D%3D?line=11'>12</a>\u001b[0m \tb_try \u001b[39m=\u001b[39m np\u001b[39m.\u001b[39marray(b)\n",
      "\u001b[0;31mTypeError\u001b[0m: computeCost() takes from 3 to 4 positional arguments but 5 were given"
     ]
    }
   ],
   "source": [
    "resolveWithSDG(training, W, b, lamda)"
   ]
  }
 ],
 "metadata": {
  "kernelspec": {
   "display_name": "mining",
   "language": "python",
   "name": "python3"
  },
  "language_info": {
   "codemirror_mode": {
    "name": "ipython",
    "version": 3
   },
   "file_extension": ".py",
   "mimetype": "text/x-python",
   "name": "python",
   "nbconvert_exporter": "python",
   "pygments_lexer": "ipython3",
   "version": "3.10.6"
  },
  "orig_nbformat": 4
 },
 "nbformat": 4,
 "nbformat_minor": 2
}
